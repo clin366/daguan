{
 "cells": [
  {
   "cell_type": "code",
   "execution_count": 1,
   "metadata": {
    "collapsed": true,
    "deletable": true,
    "editable": true
   },
   "outputs": [],
   "source": [
    "label = []\n",
    "with open('train_label_head') as f:\n",
    "    line = f.readline().strip()\n",
    "    while line:\n",
    "        label.append(line)\n",
    "        line = f.readline().strip()"
   ]
  },
  {
   "cell_type": "code",
   "execution_count": 2,
   "metadata": {
    "collapsed": false,
    "deletable": true,
    "editable": true
   },
   "outputs": [
    {
     "data": {
      "text/plain": [
       "['14', '3', '12', '13', '12', '13', '1', '10', '10']"
      ]
     },
     "execution_count": 2,
     "metadata": {},
     "output_type": "execute_result"
    }
   ],
   "source": [
    "label"
   ]
  },
  {
   "cell_type": "code",
   "execution_count": 3,
   "metadata": {
    "collapsed": true,
    "deletable": true,
    "editable": true
   },
   "outputs": [],
   "source": [
    "word = []\n",
    "with open('train_word_head') as f:\n",
    "    line = f.readline().strip()\n",
    "    while line:\n",
    "        word.append(line)\n",
    "        line = f.readline().strip()"
   ]
  },
  {
   "cell_type": "code",
   "execution_count": 32,
   "metadata": {
    "collapsed": true
   },
   "outputs": [],
   "source": [
    "sep_word = []\n",
    "sep_label = []\n",
    "for word_index in xrange(0, len(word)):\n",
    "    long_word = word[word_index]\n",
    "    long_word = long_word.split(' ')\n",
    "    if len(long_word)>100:\n",
    "        for i in xrange(0, len(long_word)/100 + 1):\n",
    "            sep_word.append(' '.join(long_word[100*i:100*(i+1)]))\n",
    "            sep_label.append(label[word_index])\n",
    "            "
   ]
  },
  {
   "cell_type": "code",
   "execution_count": 34,
   "metadata": {
    "collapsed": false
   },
   "outputs": [],
   "source": [
    "with open('sep_label.txt', 'w') as f:\n",
    "    for line in sep_label:\n",
    "        f.write(line+'\\n')"
   ]
  },
  {
   "cell_type": "code",
   "execution_count": 35,
   "metadata": {
    "collapsed": true
   },
   "outputs": [],
   "source": [
    "with open('sep_word.txt', 'w') as f:\n",
    "    for line in sep_word:\n",
    "        f.write(line+'\\n')"
   ]
  },
  {
   "cell_type": "code",
   "execution_count": 36,
   "metadata": {
    "collapsed": false
   },
   "outputs": [
    {
     "data": {
      "text/plain": [
       "110"
      ]
     },
     "execution_count": 36,
     "metadata": {},
     "output_type": "execute_result"
    }
   ],
   "source": [
    "len(sep_word)"
   ]
  },
  {
   "cell_type": "code",
   "execution_count": 37,
   "metadata": {
    "collapsed": false
   },
   "outputs": [
    {
     "data": {
      "text/plain": [
       "110"
      ]
     },
     "execution_count": 37,
     "metadata": {},
     "output_type": "execute_result"
    }
   ],
   "source": [
    "len(sep_label)"
   ]
  },
  {
   "cell_type": "code",
   "execution_count": 22,
   "metadata": {
    "collapsed": true,
    "deletable": true,
    "editable": true
   },
   "outputs": [],
   "source": [
    "temp = word[0]"
   ]
  },
  {
   "cell_type": "code",
   "execution_count": 23,
   "metadata": {
    "collapsed": false,
    "deletable": true,
    "editable": true
   },
   "outputs": [],
   "source": [
    "temp = temp.split(' ')"
   ]
  },
  {
   "cell_type": "code",
   "execution_count": 24,
   "metadata": {
    "collapsed": true,
    "deletable": true,
    "editable": true
   },
   "outputs": [],
   "source": [
    "sep_word = []\n",
    "\n",
    "if len(temp) > 100:\n",
    "    for i in xrange(0, len(temp)/100 + 1):\n",
    "        sep_word.append(' '.join(temp[100*i:100*(i+1)]))"
   ]
  },
  {
   "cell_type": "code",
   "execution_count": 26,
   "metadata": {
    "collapsed": false,
    "deletable": true,
    "editable": true
   },
   "outputs": [
    {
     "data": {
      "text/plain": [
       "'816903 597526 520477 1179558 1033823 758724 632718 422098 520477 414956 625597 1203094 441513 596474 660569 995362 924085 1278762 1155376 1109510 823120 1275770 1203094 520477 831818 970779 1179558 758724 1033823 367432 995362 340401 599826 520477 907218 1080651 99188 188983 1238335 264536 834740 321830 327386 469755 295102 520477 106993 663234 670118 566120 960860 1033823 1032772 528558 1108771 643003 520477 1191581 560181 335962 1276143 995362 748896 776840 910464 520477 707234 235866 1113816 814750 636128 520477 1241273 756099 658505 477703 520477 653967 627858 147022 572824 995362 816903 566120 1255841 785043 1025743 197563 990423 816903 6562 1000483 520477 426552 876555 812998 1071452 965650 54111 1145850'"
      ]
     },
     "execution_count": 26,
     "metadata": {},
     "output_type": "execute_result"
    }
   ],
   "source": [
    "sep_word[0]"
   ]
  },
  {
   "cell_type": "code",
   "execution_count": 27,
   "metadata": {
    "collapsed": false
   },
   "outputs": [
    {
     "data": {
      "text/plain": [
       "'1194044 885827 683784 1181092 1278762 520477 717686 527096 33842 858507 995362 473420 1245422 966562 430183 520477 488550 569876 113299 944337 796858 386932 520477 1161095 1188752 490535 635442 411707 881493 520477 183528 1112816 796858 454003 129186 960860 175827 520477 244780 272645 520477 1097161 984580 69103 969033 520477 796858 300241 351200 834740 995362 816903 426552 988628 386932 520477 698094 129186 959270 792049 520477 604424 300241 454003 278563 765514 825039 335962 566120 1255841 520477 857269 54111 1105164 1077959 1033823 1043187 874881 520477 1130795 825039 174851 1025743 788544 990423 1033823 827281 520477 1067170 501097 186268 814120 685144 920327 93759 520477 852447 526374 257284 732050'"
      ]
     },
     "execution_count": 27,
     "metadata": {},
     "output_type": "execute_result"
    }
   ],
   "source": [
    "sep_word[1]"
   ]
  },
  {
   "cell_type": "code",
   "execution_count": null,
   "metadata": {
    "collapsed": true,
    "deletable": true,
    "editable": true
   },
   "outputs": [],
   "source": [
    "\n",
    "\n"
   ]
  },
  {
   "cell_type": "code",
   "execution_count": null,
   "metadata": {
    "collapsed": false,
    "deletable": true,
    "editable": true
   },
   "outputs": [],
   "source": [
    "word[0]"
   ]
  }
 ],
 "metadata": {
  "kernelspec": {
   "display_name": "Python 2",
   "language": "python",
   "name": "python2"
  },
  "language_info": {
   "codemirror_mode": {
    "name": "ipython",
    "version": 2
   },
   "file_extension": ".py",
   "mimetype": "text/x-python",
   "name": "python",
   "nbconvert_exporter": "python",
   "pygments_lexer": "ipython2",
   "version": "2.7.13"
  }
 },
 "nbformat": 4,
 "nbformat_minor": 2
}
