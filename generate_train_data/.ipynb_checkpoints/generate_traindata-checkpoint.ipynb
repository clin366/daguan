{
 "cells": [
  {
   "cell_type": "code",
   "execution_count": null,
   "metadata": {
    "collapsed": true
   },
   "outputs": [],
   "source": [
    "import numpy as np"
   ]
  },
  {
   "cell_type": "code",
   "execution_count": 1,
   "metadata": {
    "collapsed": true,
    "deletable": true,
    "editable": true
   },
   "outputs": [],
   "source": [
    "label = []\n",
    "with open('train_label_head') as f:\n",
    "    line = f.readline().strip()\n",
    "    while line:\n",
    "        label.append(line)\n",
    "        line = f.readline().strip()"
   ]
  },
  {
   "cell_type": "code",
   "execution_count": 2,
   "metadata": {
    "collapsed": true,
    "deletable": true,
    "editable": true
   },
   "outputs": [],
   "source": [
    "word = []\n",
    "with open('train_word_head') as f:\n",
    "    line = f.readline().strip()\n",
    "    while line:\n",
    "        word.append(line)\n",
    "        line = f.readline().strip()"
   ]
  },
  {
   "cell_type": "code",
   "execution_count": 3,
   "metadata": {
    "collapsed": true,
    "deletable": true,
    "editable": true
   },
   "outputs": [],
   "source": [
    "sep_word = []\n",
    "sep_label = []\n",
    "for word_index in xrange(0, len(word)):\n",
    "    long_word = word[word_index]\n",
    "    long_word = long_word.split(' ')\n",
    "    if len(long_word)>100:\n",
    "        for i in xrange(0, len(long_word)/100 + 1):\n",
    "            sep_word.append(' '.join(long_word[100*i:100*(i+1)]))\n",
    "            sep_label.append(label[word_index])\n",
    "            "
   ]
  },
  {
   "cell_type": "code",
   "execution_count": 6,
   "metadata": {
    "collapsed": false,
    "deletable": true,
    "editable": true
   },
   "outputs": [],
   "source": [
    "with open('sep_label.txt', 'w') as f:\n",
    "    for line in sep_label:\n",
    "        f.write(line+'\\n')"
   ]
  },
  {
   "cell_type": "code",
   "execution_count": 7,
   "metadata": {
    "collapsed": true,
    "deletable": true,
    "editable": true
   },
   "outputs": [],
   "source": [
    "with open('sep_word.txt', 'w') as f:\n",
    "    for line in sep_word:\n",
    "        f.write(line+'\\n')"
   ]
  },
  {
   "cell_type": "code",
   "execution_count": 8,
   "metadata": {
    "collapsed": true
   },
   "outputs": [],
   "source": [
    "def read_origin_data_file(data_file_path):\n",
    "    print(\"Start reading the origin data file\")\n",
    "    file_origin_list = []\n",
    "    with open(data_file_path, \"r\") as f:\n",
    "        while True:\n",
    "            line = f.readline()\n",
    "            if not line:\n",
    "                break\n",
    "            line = line.strip()\n",
    "            line = line.split(' ')\n",
    "            if (len(line) < 100):\n",
    "                for i in xrange(0, 100-len(line)):\n",
    "                    line.append('-9')\n",
    "            line =  [int(x) for x in line]\n",
    "            file_origin_list.append(np.array(line))\n",
    "    return file_origin_list"
   ]
  },
  {
   "cell_type": "code",
   "execution_count": 11,
   "metadata": {
    "collapsed": false
   },
   "outputs": [
    {
     "name": "stdout",
     "output_type": "stream",
     "text": [
      "Start reading the origin data file\n"
     ]
    }
   ],
   "source": [
    "trainMatrix = read_origin_data_file('sep_word.txt')"
   ]
  },
  {
   "cell_type": "code",
   "execution_count": 14,
   "metadata": {
    "collapsed": false
   },
   "outputs": [],
   "source": [
    "trainMatrix = np.array(trainMatrix)"
   ]
  },
  {
   "cell_type": "code",
   "execution_count": 15,
   "metadata": {
    "collapsed": true
   },
   "outputs": [],
   "source": [
    "np.savetxt('trainMatrix.txt', trainMatrix, fmt = '%i') "
   ]
  },
  {
   "cell_type": "code",
   "execution_count": null,
   "metadata": {
    "collapsed": true
   },
   "outputs": [],
   "source": []
  }
 ],
 "metadata": {
  "kernelspec": {
   "display_name": "Python 2",
   "language": "python",
   "name": "python2"
  },
  "language_info": {
   "codemirror_mode": {
    "name": "ipython",
    "version": 2
   },
   "file_extension": ".py",
   "mimetype": "text/x-python",
   "name": "python",
   "nbconvert_exporter": "python",
   "pygments_lexer": "ipython2",
   "version": "2.7.13"
  }
 },
 "nbformat": 4,
 "nbformat_minor": 2
}
